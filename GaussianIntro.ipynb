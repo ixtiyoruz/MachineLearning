{
 "cells": [
  {
   "cell_type": "markdown",
   "metadata": {},
   "source": [
    "Bu yerdagi formulalarni o'zbekchada boshqa nomlarda bilishiz mumkin, lekin kelajakda qulay bo'lishi uchun ularni ingliz tilida bilganiz ma'qulroq.\n",
    "\n",
    "<h3>1. Mean va Expected qiymat.</h3>\n",
    "\n",
    "Mean qiymat bu arifmetik o'rtacha qiymat :\n",
    "$$\n",
    "V_{mean}= \\frac{1}{N} \\sum _{n=1}^{N}V_{n}= \\frac{1}{5} \\left( 10+5+10+10+10 \\right) = 9 \n",
    "$$\n",
    "Expected qiymat bu ham arifmetik o'ratacha qiymat, ammo o'ratacha qiymati hisoblanayotgan obekt 1 ta, yani agar sizda xatolik bilan ko'rsatadigan tarozi bo'lsa va siz o'z vazningizni aniqroq o'lchamoqchi bo'lsangiz, unda bir necha marta o'lchab ularni o'rtachasini olishingiz kifoya.\n",
    "\n",
    "Mean <b> μ </b> bilan, Expected esa <b>E</b> bilan belgilanadi."
   ]
  },
  {
   "cell_type": "markdown",
   "metadata": {},
   "source": [
    "\n",
    "<h3>2. Variance va Standard deviation.</h3>\n",
    "Variance bu datasetining o'z mean qiymatidan qanchalik yoyilganligi, Standard deviation esa variance ning ildizga olingani. Standard deviation σ (sigma) bilan, Variance $\\sigma ^{2}$ bilan ifodalanadi. \n",
    "\n",
    "Bizga 2 sinfdagi o'quvchilarning baxolari berilgan bo'lsin"
   ]
  },
  {
   "cell_type": "code",
   "execution_count": 2,
   "metadata": {},
   "outputs": [
    {
     "name": "stdout",
     "output_type": "stream",
     "text": [
      "        S0  S1  S2  S3  S4  S5  S6  S7  S8  S9  ...  S990  S991  S992  S993  \\\n",
      "class0   4   8   8   4   6   6   9   9   7   4  ...     5     7    10     7   \n",
      "class1   8   6   7   8   8   6   7   6   6   8  ...     6     7     9     9   \n",
      "\n",
      "        S994  S995  S996  S997  S998  S999  \n",
      "class0     6     8    10     6     8     7  \n",
      "class1     9     6     8     8     9     8  \n",
      "\n",
      "[2 rows x 1000 columns]\n"
     ]
    }
   ],
   "source": [
    "import numpy as np\n",
    "from scipy.stats import norm\n",
    "import pandas as pd\n",
    "n_students = 1000\n",
    "n_classes = 2\n",
    "header = []\n",
    "for i in range(n_students):\n",
    "    header.append('S' + str(i))\n",
    "grades = np.random.binomial(n=10, p=0.7, size=(n_classes,n_students))\n",
    "class_info = []\n",
    "for i in range(n_classes):\n",
    "    class_info.append(\"class\" + str(i))\n",
    "data = pd.DataFrame(grades, columns = header, index=class_info)\n",
    "print(data)"
   ]
  },
  {
   "cell_type": "markdown",
   "metadata": {},
   "source": [
    "Kelinglar endi ularni mean valuesini hisoblaymiz:"
   ]
  },
  {
   "cell_type": "code",
   "execution_count": 4,
   "metadata": {},
   "outputs": [
    {
     "name": "stdout",
     "output_type": "stream",
     "text": [
      "[7.04 6.98]\n"
     ]
    }
   ],
   "source": [
    "means = np.round(np.mean(data.get_values(), 1),2)\n",
    "print(means)"
   ]
  },
  {
   "cell_type": "markdown",
   "metadata": {},
   "source": [
    "Birinchi mean bu birinchi sinfga tegishli, 2- mean 2-sinfga tegishli. Endi biz har bir baxolarning (qiymatlarning) mean qiymat bilan ayrilganini topib chiqamiz, bu odatda <b>distance</b> deb ataladi: $ x_{n}-  \\mu $"
   ]
  },
  {
   "cell_type": "code",
   "execution_count": 5,
   "metadata": {},
   "outputs": [
    {
     "name": "stdout",
     "output_type": "stream",
     "text": [
      "          S0    S1    S2    S3    S4    S5    S6    S7    S8    S9  ...  S990  \\\n",
      "class0 -3.04  0.96  0.96 -3.04 -1.04 -1.04  1.96  1.96 -0.04 -3.04  ... -2.04   \n",
      "class1  1.02 -0.98  0.02  1.02  1.02 -0.98  0.02 -0.98 -0.98  1.02  ... -0.98   \n",
      "\n",
      "        S991  S992  S993  S994  S995  S996  S997  S998  S999  \n",
      "class0 -0.04  2.96 -0.04 -1.04  0.96  2.96 -1.04  0.96 -0.04  \n",
      "class1  0.02  2.02  2.02  2.02 -0.98  1.02  1.02  2.02  1.02  \n",
      "\n",
      "[2 rows x 1000 columns]\n"
     ]
    }
   ],
   "source": [
    "data_1 = pd.DataFrame((data._values.T - means).T, columns = header, index=class_info)\n",
    "print(data_1)"
   ]
  },
  {
   "cell_type": "code",
   "execution_count": 6,
   "metadata": {},
   "outputs": [
    {
     "name": "stdout",
     "output_type": "stream",
     "text": [
      "            S0      S1      S2      S3      S4      S5      S6      S7  \\\n",
      "class0  9.2416  0.9216  0.9216  9.2416  1.0816  1.0816  3.8416  3.8416   \n",
      "class1  1.0404  0.9604  0.0004  1.0404  1.0404  0.9604  0.0004  0.9604   \n",
      "\n",
      "            S8      S9  ...    S990    S991    S992    S993    S994    S995  \\\n",
      "class0  0.0016  9.2416  ...  4.1616  0.0016  8.7616  0.0016  1.0816  0.9216   \n",
      "class1  0.9604  1.0404  ...  0.9604  0.0004  4.0804  4.0804  4.0804  0.9604   \n",
      "\n",
      "          S996    S997    S998    S999  \n",
      "class0  8.7616  1.0816  0.9216  0.0016  \n",
      "class1  1.0404  1.0404  4.0804  1.0404  \n",
      "\n",
      "[2 rows x 1000 columns]\n"
     ]
    }
   ],
   "source": [
    "data_2 = pd.DataFrame(np.square(data_1._values), columns = header, index=class_info)\n",
    "print(data_2)"
   ]
  },
  {
   "cell_type": "markdown",
   "metadata": {},
   "source": [
    "Datasetning variance ni topish uchun, biz hamma kvadratga oshirilgan distance larning o'rtacha qiymatini olishimiz kerak.\n",
    "$$\n",
    "\\sigma ^{2}= \\frac{1}{N} \\sum _{n=1}^{N} \\left( x_{n}-  \\mu  \\right) ^{2}\n",
    "$$"
   ]
  },
  {
   "cell_type": "markdown",
   "metadata": {},
   "source": [
    "#class0 uchun variance quyidagicha bo`ladi:\n",
    "print(np.sum(data_2._values[0, :])/ n_students)\n",
    "#class1 uchun variance quyidagicha bo`ladi:\n",
    "print(np.sum(data_2._values[1, :])/ n_students)"
   ]
  },
  {
   "cell_type": "markdown",
   "metadata": {},
   "source": [
    "Shunda bizning standard deviationimiz quyidagicha bo`ladi:\n",
    "$$\n",
    "\\sigma =\\sqrt[]{\\frac{1}{N} \\sum _{n=1}^{N} \\left( x_{n}-  \\mu  \\right) ^{2}}\n",
    "$$"
   ]
  },
  {
   "cell_type": "code",
   "execution_count": 10,
   "metadata": {},
   "outputs": [
    {
     "name": "stdout",
     "output_type": "stream",
     "text": [
      "1.4068262152803381\n",
      "1.4250614021858847\n"
     ]
    }
   ],
   "source": [
    "#class0 uchun std quyidagicha bo`ladi:\n",
    "print(np.sqrt(np.sum(data_2._values[0, :])/ n_students))\n",
    "#class1 uchun std quyidagicha bo`ladi:\n",
    "print(np.sqrt(np.sum(data_2._values[1, :])/ n_students))"
   ]
  },
  {
   "cell_type": "markdown",
   "metadata": {},
   "source": [
    "Amaliyotda variance ning formulasi biroz boshqacha:\n",
    "$$\n",
    "\\sigma ^{2}= \\frac{1}{N-1} \\sum _{n=1}^{N} \\left( x_{n}-  \\mu  \\right) ^{2}\n",
    "$$"
   ]
  },
  {
   "cell_type": "markdown",
   "metadata": {},
   "source": [
    "\n",
    "<h3>3. NORMAL DISTRIBUTION.</h3>"
   ]
  },
  {
   "cell_type": "markdown",
   "metadata": {},
   "source": [
    "Real xayotdagi ko'pgina random qiymatlar nomal distribution ga bo'ysunadi.\n",
    "\n",
    "<b>\n",
    "Normal distributionning asosiy manosi, har qanday random to'plamda o'rtacha qiymat bo'ladi va to'plamdagi elementlarning eng katta qismi unga yaqin yoki teng sonlar bo'ladi, va bu variancega bog`liq.\n",
    "</b>\n",
    "\n",
    "Yuqoridagi o'quvchilar datasetining histogramini plot qilamiz:"
   ]
  },
  {
   "cell_type": "code",
   "execution_count": 27,
   "metadata": {},
   "outputs": [
    {
     "data": {
      "image/png": "[encoded data removed]",
      "text/plain": [
       "<Figure size 432x288 with 1 Axes>"
      ]
     },
     "metadata": {
      "needs_background": "light"
     },
     "output_type": "display_data"
    }
   ],
   "source": [
    "import matplotlib.pyplot as plt\n",
    "count, division = np.histogram(data.iloc[0]._values, bins=list(range(13)))\n",
    "plt.hist(data.iloc[0], bins=40)\n",
    "plt.plot(division[:12] ,count, 60)\n",
    "plt.show()\n"
   ]
  },
  {
   "cell_type": "code",
   "execution_count": 28,
   "metadata": {},
   "outputs": [
    {
     "data": {
      "image/png": "[encoded data removed]",
      "text/plain": [
       "<Figure size 432x288 with 1 Axes>"
      ]
     },
     "metadata": {
      "needs_background": "light"
     },
     "output_type": "display_data"
    }
   ],
   "source": [
    "count, division = np.histogram(data.iloc[1]._values, bins=list(range(13)))\n",
    "plt.hist(data.iloc[1], bins=40)\n",
    "plt.plot(division[:12] ,count, 12)\n",
    "plt.show()"
   ]
  },
  {
   "cell_type": "markdown",
   "metadata": {},
   "source": [
    "Ko'rib turganizdek grafik o'zining eng katta qiymati atrofida deyarli simmetrik."
   ]
  },
  {
   "cell_type": "code",
   "execution_count": 17,
   "metadata": {},
   "outputs": [
    {
     "data": {
      "text/plain": [
       "array([  0,   0,   1,   7,  36, 109, 198, 275, 235, 110,  29,   0])"
      ]
     },
     "execution_count": 17,
     "metadata": {},
     "output_type": "execute_result"
    }
   ],
   "source": [
    "count"
   ]
  },
  {
   "cell_type": "code",
   "execution_count": 18,
   "metadata": {},
   "outputs": [
    {
     "name": "stdout",
     "output_type": "stream",
     "text": [
      "0.708\n"
     ]
    }
   ],
   "source": [
    "print((count[6] + count[7] + count[8])/ n_students);"
   ]
  },
  {
   "cell_type": "code",
   "execution_count": 19,
   "metadata": {},
   "outputs": [
    {
     "data": {
      "text/plain": [
       "0.139"
      ]
     },
     "execution_count": 19,
     "metadata": {},
     "output_type": "execute_result"
    }
   ],
   "source": [
    "(count[9] + count[10])/ n_students"
   ]
  },
  {
   "cell_type": "code",
   "execution_count": 20,
   "metadata": {},
   "outputs": [
    {
     "data": {
      "text/plain": [
       "0.153"
      ]
     },
     "execution_count": 20,
     "metadata": {},
     "output_type": "execute_result"
    }
   ],
   "source": [
    "(np.sum(count[0:6]))/ n_students"
   ]
  },
  {
   "cell_type": "code",
   "execution_count": 21,
   "metadata": {},
   "outputs": [
    {
     "name": "stdout",
     "output_type": "stream",
     "text": [
      "6.98\n"
     ]
    }
   ],
   "source": [
    "print(means[1])"
   ]
  },
  {
   "cell_type": "markdown",
   "metadata": {},
   "source": [
    "Yuqoridagi studentlarning baxo datasidan foydalanib har bir o'quvchining malum bir baxo olishi extimolini topishimiz kerak bo'lsin. Unda bizga Normal distribution yordamga keladi.\n",
    "Normal distribution, va yana Gaussian deb ataluvchi formula quyidagicha :"
   ]
  },
  {
   "cell_type": "markdown",
   "metadata": {},
   "source": [
    "$$\\\n",
    "f\\left(x; \\mu , \\sigma ^{2} \\right) = \\frac{1}{\\sqrt[]{2 \\pi  \\sigma ^{2}}}e^{\\frac{- \\left( x- \\mu  \\right) ^{2}}{2 \\sigma ^{2}}}\n",
    "$$\n"
   ]
  },
  {
   "cell_type": "markdown",
   "metadata": {},
   "source": [
    "Agar biz uni chizsak, Gaussian curve hosil bo'ladi va u bazan Probability Density Function (PDF) deb ham ataladi. \n",
    "\n",
    "<b>Normal distributionning asosiy qoidalaridan yana biri ushbu graphning o'lchami(yuzasi) har doim 1ga teng bo`ladi.</b>"
   ]
  },
  {
   "cell_type": "code",
   "execution_count": 22,
   "metadata": {},
   "outputs": [
    {
     "name": "stdout",
     "output_type": "stream",
     "text": [
      "1.4250526306070244 6.985\n"
     ]
    }
   ],
   "source": [
    "std = np.std(data.iloc[1])\n",
    "mean = np.mean(data.iloc[1])\n",
    "print(std, mean)\n",
    "# here we find probability for each score (actually is 0-10 but we are expanding \n",
    "# it to just make it more handsome)\n",
    "n_dist = (1./(std * np.sqrt(2 * np.pi))) * np.exp(-np.square(np.arange(mean-10,mean+10) - mean)/ (2*std * std))\n"
   ]
  },
  {
   "cell_type": "code",
   "execution_count": 23,
   "metadata": {},
   "outputs": [
    {
     "data": {
      "image/png": "[encoded data removed]",
      "text/plain": [
       "<Figure size 432x288 with 1 Axes>"
      ]
     },
     "metadata": {
      "needs_background": "light"
     },
     "output_type": "display_data"
    }
   ],
   "source": [
    "plt.plot(np.arange(mean-10,mean+10), n_dist)\n",
    "plt.show()"
   ]
  },
  {
   "cell_type": "code",
   "execution_count": 24,
   "metadata": {},
   "outputs": [
    {
     "data": {
      "text/plain": [
       "0.7176257227986953"
      ]
     },
     "execution_count": 24,
     "metadata": {},
     "output_type": "execute_result"
    }
   ],
   "source": [
    "# now lets get the probs of scores 6 7 8,\n",
    "np.sum((1./(std * np.sqrt(2 * np.pi))) * np.exp(-np.square(np.array([6,7,8]) - mean)/ (2*std * std)))"
   ]
  },
  {
   "cell_type": "markdown",
   "metadata": {},
   "source": [
    "Normal distribution formulasining kelib chiqishi haqida quyidagi videoda malumot topishiz mumkin:\n",
    "\n",
    "[*] https://www.youtube.com/watch?v=cTyPuZ9-JZ0\n"
   ]
  },
  {
   "cell_type": "markdown",
   "metadata": {},
   "source": [
    "<h3>4. ESTIMATE, ACCURACY AND PRECISION </h3>\n",
    "<b>Estimate </b>\n",
    "Estimate, bu sistemaning yashirin qismini hisoblashdir, masalan robotning joylashuvi odatda bizga nomalum bo'ladi biz uni gps orqali bilib olamiz. Estimate ni bir necha sensorlar ishlatib, yoki tracking algoritmlarini ishlatib aniqligini oshirsa bo'ladi.\n",
    "\n",
    "<b> Accuracy </b>\n",
    "Accuracy, estimatening haqiqiy qiymatga qanchalik yaqinligini ko'rstadi.\n",
    "\n",
    "<b> Precision </b>\n",
    "Precision bu estimationlarning bir biriga qanchalik darajada yaqinligi, ular haqiqiy qiymatga yaqin bo'lmasligi ham mumkin.\n",
    "\n",
    "Shunday qilib, o'rtacha qiymat va haqiqiy qiymat o'rtasidagi masofa measurement accuracy deb ataladi (qanchalik kichik bo'lsa accuracy shunchalik yuqori). Distributionning asoisy qismi joylashgan grafik kengligi, (yuqoridagi funksiyadagi 6,7,8 joylashgan joylar) precision yoki measurement noise deb ataladi.\n"
   ]
  },
  {
   "cell_type": "code",
   "execution_count": null,
   "metadata": {},
   "outputs": [],
   "source": []
  }
 ],
 "metadata": {
  "kernelspec": {
   "display_name": "Python 3",
   "language": "python",
   "name": "python3"
  },
  "language_info": {
   "codemirror_mode": {
    "name": "ipython",
    "version": 3
   },
   "file_extension": ".py",
   "mimetype": "text/x-python",
   "name": "python",
   "nbconvert_exporter": "python",
   "pygments_lexer": "ipython3",
   "version": "3.5.2"
  }
 },
 "nbformat": 4,
 "nbformat_minor": 4
}
