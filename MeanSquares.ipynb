{
 "cells": [
  {
   "cell_type": "markdown",
   "metadata": {},
   "source": [
    "<h1> Least Squares </h1>\n",
    "\n",
    "Nomidan malumki u kvadratlar yig'indisini minimallashtirishga harakat qiladi. \n",
    "Scikit learn library da uning formulasi quyidagicha ko'rinishga ega.\n",
    "\n",
    "<img src='https://miro.medium.com/max/187/1*w4pissUaRbANQWt9XQE6jA.png'/>\n",
    "\n",
    "Bunday masalalarni yechish odatda SVD (Singular value decomposition) bilan osongina amalga oshadi.  Biz esa biroz detail information bermoqchi miz.\n",
    "\n",
    "Agar siz allaqachon Linear regressionni dagi mean square errorni  ko'rgan bo'lsangiz uning formulasini eslasangiz kerak, va u quyidagicha :\n",
    "\n",
    "<img src='https://miro.medium.com/max/1400/0*OAdhpUn7ovxcqubq.png'/>\n",
    "\n",
    "\n",
    "Ko'rib turganizdek ular juda ham o'xshash.\n",
    "\n",
    "Umuman olganda bizga x vector berilgan bo'lsa uning magnitudasi quyidagi formula bilan topiladi:\n",
    "\n",
    "<img src='https://miro.medium.com/max/876/1*UfFFdLeNQgM2rslACiLOUQ.png'/>\n",
    "\n",
    "Xuddi shunday bizga o'zimizning berilgan w coeffisientlardagi error function ni A deb belgilab uning magnitutadisini topishimiz va uni minimallashtirishimiz kerak.\n",
    "\n",
    "<img src='https://miro.medium.com/max/259/1*O2QGdSk9EwAy1CPyNBf8ww.png'/>\n",
    "\n",
    "ya'ni\n",
    "\n",
    "<img src='https://miro.medium.com/max/116/1*qmynvUUSrYSG9D4FdaUlxQ.png'/>\n",
    "\n",
    "Agar EVD (Eigen value decomposition) ni o'rgangan bo'lsangiz eslasangiz kerak, matritsaning euclidian normasi uning covariance matrixnining eng katta eigenvalue sini ildiziga teng. Covariance matrixni topish uchun esa matrixni o'zining transpose qilingani bilan ko'paytirish kerak.\n",
    "\n",
    "<img src='https://miro.medium.com/max/2000/1*rxqBxvyeQ75yV3xY6gC57g.png'/>\n",
    "<img src='https://miro.medium.com/max/1400/1*ObXJ9cKBzd70iTtgy1L_iw.png'/>\n",
    "\n",
    "\n",
    "Bizning ushbu javobimiz errorni beradi. Endigi navbat esa uni minimallashtirishda. Formulaga etibor bersak  :\n",
    "\n",
    "<img src='./imgs/Screenshot from 2020-04-29 09-37-46.png'/>\n",
    "\n",
    "\n",
    "uning erishishi mumkin bo'lgan eng kichik minimali 0 ga teng bo'ladi, bu esa bizga Xw-y = 0 tenglamani beradi. uni topish uchun esa X ning inverse matrixini y ga ko'paytirishimiz kerak holos. Ammo X ning inverse matrixini topish mushkul, chunki u vektor yani 1 o'lchamli matrix. Bu holatda biz uning pseudo inverse matrixidan foydalanishimiz mumkin.\n",
    " \n",
    " <img src='https://miro.medium.com/max/198/1*kkr4AdNe36egdlAhOWiOXg.png'/>\n",
    " \n",
    " Va bizning X matriximizning  pseude inverese matrixi quyidagicha topiladi:\n",
    " \n",
    " <img src='https://miro.medium.com/max/272/1*K4yXDeZfHutq5C2VCFqemA.png'/>\n",
    " \n",
    " \n",
    " Agar SVD ni eslasanigiz uning formulasi yuqoridagi tenglama bilan bir xilligini sezishiz mumkin, shunday qilib biz minimize qilish uchun SVD dan foydalanamiz:\n",
    " \n",
    " <img src='https://miro.medium.com/max/257/1*S8CqU4G8D2WcUom5nqV4lg.png'/>\n",
    " \n",
    " Biz sigma matrixning diagonalidan D^+ matrixni hosil qilamiz bu yerda + beligisi diagonal matrixning hamma qiymati 0 dan yuqori bo'lishi kerak ekanligini ko'rsatadi.\n",
    " \n",
    " <img src='https://miro.medium.com/max/720/1*llAdOsMYOPWmolQbTgVweQ.png'/>\n",
    " \n",
    " Va biz X ning inverse ni topish uchun shunchaki biz hosil qilgan diagonal matrixning inverseni hisoblaymiz holos:\n",
    " \n",
    " <img src='https://miro.medium.com/max/786/1*0ye7Wss20-xtClHgsSkUUg.png'/>\n",
    " \n",
    " \n",
    " "
   ]
  },
  {
   "cell_type": "markdown",
   "metadata": {},
   "source": [
    "Mean squares ning SVD bilan yechilishining kamchiligi, agar datada error (outlier) qarab yechimda xatolik exponential tarzda oshadi, buning oldini olish uchun Ransac metodi bor, ammo u ham mukammal emas. Yaxshiroq yechim bu xatolikni topib shu xatolikni iterative ravishda kichiklashtirishga harakat qilishdir. Bunda input to'g'ri yoki noto'griligining ahamiyati yo'q javobni  iloji boricha lossni kichiklashtirib chiqaradi.\n",
    "\n",
    "<pre>from scipy.optimize import least_squares</pre> shu vazifani bajaradi. U costni cost steplar yordamida kichiklashtirib boraveradi toki maximum evaluation lar soniga yetugnicha yoki termination qiymatlar qanoatlantirilguncha.\n",
    "\n",
    "termination qiymatlar quyidagicha :\n",
    "\n",
    "ftoI - costning o'zgarishi yani cost step ga qarab termination bo'ladi.(default: 1e-8)\n",
    "\n",
    "xtoI - parameterlarning o'zgarishiga qarab termination bo'ladi. (default: 1e-8)\n",
    "\n",
    "to'liqroq malumot olish uchun quyidagi linkga murojaat qiling :\n",
    "\n",
    "https://docs.scipy.org/doc/scipy/reference/generated/scipy.optimize.least_squares.html\n"
   ]
  },
  {
   "cell_type": "code",
   "execution_count": 483,
   "metadata": {},
   "outputs": [],
   "source": [
    "import numpy as np\n",
    "from scipy.optimize import least_squares\n",
    "# yuqoridagi saydan misol keltiraman\n",
    "def gen_data(t, a, b, noise=0, n_outliers=0, random_state=0):\n",
    "    # bizning funksiyamiz, siz ham xohlagan funksiyangizni olsangiz bo'ladi.\n",
    "    y = a + b * t  * a\n",
    "\n",
    "    rnd = np.random.RandomState(random_state)\n",
    "    error = noise * rnd.randn(t.size)\n",
    "    outliers = rnd.randint(0, t.size, n_outliers)\n",
    "    error[outliers] *= 10\n",
    "\n",
    "    return y + error\n",
    "# avvaliga biror bir yechilishi kerak bo'lgan misol olib olamiz:\n",
    "# a, b va c bizning funksiyamizning topilishi kerak bo'lgan parameterlari\n",
    "a = 0.5\n",
    "b = 2.0\n",
    "c = -1\n",
    "t_min = 0\n",
    "t_max = 10\n",
    "n_points = 15\n",
    "\n",
    "t_train = np.linspace(t_min, t_max, n_points)\n",
    "y_train = gen_data(t_train, a, b, noise=0.5, n_outliers=5)"
   ]
  },
  {
   "cell_type": "code",
   "execution_count": 484,
   "metadata": {},
   "outputs": [],
   "source": [
    "# endi esa biz loss functionni belgilashimiz kerak(input va outputga bog'liq holda)\n",
    "def fun(params, t, y):\n",
    "    # bu formulaning qanday kelib chiqqanini bilmoqchi bo'lsangiz gen_data ga qarang\n",
    "    return params[0] + params[1]  * t*params[0] - y\n"
   ]
  },
  {
   "cell_type": "code",
   "execution_count": 485,
   "metadata": {},
   "outputs": [
    {
     "name": "stdout",
     "output_type": "stream",
     "text": [
      "   Iteration     Total nfev        Cost      Cost reduction    Step norm     Optimality   \n",
      "       0              1         6.9712e+01                                    2.16e+01    \n",
      "       1              3         6.7460e+01      2.25e+00       3.54e-01       3.53e+01    \n",
      "       2              5         6.4989e+01      2.47e+00       1.77e-01       1.31e+01    \n",
      "       3              6         6.2490e+01      2.50e+00       3.54e-01       4.24e+01    \n",
      "       4              7         6.2256e+01      2.34e-01       7.07e-01       1.83e+02    \n",
      "       5              8         5.5499e+01      6.76e+00       1.77e-01       5.96e+00    \n",
      "       6              9         5.3833e+01      1.67e+00       3.54e-01       3.23e+01    \n",
      "       7             10         5.2610e+01      1.22e+00       7.07e-01       1.14e+02    \n",
      "       8             11         5.1862e+01      7.48e-01       7.07e-01       6.76e+01    \n",
      "       9             13         5.1405e+01      4.57e-01       3.54e-01       2.05e+01    \n",
      "      10             16         5.1390e+01      1.49e-02       4.42e-02       1.18e+01    \n",
      "      11             17         5.1384e+01      5.59e-03       8.84e-02       1.38e+00    \n",
      "      12             19         5.1379e+01      5.45e-03       4.42e-02       2.83e-01    \n",
      "      13             22         5.1379e+01      1.06e-04       5.52e-03       7.26e-03    \n",
      "      14             24         5.1379e+01      3.53e-06       2.76e-03       4.31e-03    \n",
      "      15             26         5.1379e+01      2.16e-06       1.38e-03       1.30e-03    \n",
      "      16             29         5.1379e+01      1.59e-07       1.73e-04       5.66e-04    \n",
      "`ftol` termination condition is satisfied.\n",
      "Function evaluations 29, initial cost 6.9712e+01, final cost 5.1379e+01, first-order optimality 5.66e-04.\n"
     ]
    }
   ],
   "source": [
    "# boshlang'ich parameterlar (random)\n",
    "params = np.array([1.0, 1.0, 0.0])\n",
    "res_lsq = least_squares(fun, params, args=(t_train, y_train), verbose=2)\n"
   ]
  },
  {
   "cell_type": "code",
   "execution_count": 490,
   "metadata": {},
   "outputs": [],
   "source": [
    "res_soft_l1 = least_squares(fun, params, loss='soft_l1', f_scale=0.1,\n",
    "                            args=(t_train, y_train))\n",
    "res_log = least_squares(fun, params, loss='cauchy', f_scale=0.1,\n",
    "                        args=(t_train, y_train))"
   ]
  },
  {
   "cell_type": "code",
   "execution_count": 505,
   "metadata": {},
   "outputs": [],
   "source": [
    "# endi ushbu masalani svd yordamida yechib ko'ramiz:\n",
    "XX = np.c_[np.ones(len(t_train)), t_train]\n",
    "\n",
    "u, s, vt = np.linalg.svd(XX)\n",
    "# bizning yechim esa y=ax + b ni qanoatlantiradi\n",
    "sigma = np.zeros(XX.shape)\n",
    "sigma_inv = np.zeros(XX.shape).T\n",
    "sigma_inv[:2, :2] = np.diag(1 / s[:2])\n",
    "sigma_inv = sigma_inv.round(3)\n",
    "_w = ( vt.T @ sigma_inv @ u.T) @ y_train\n",
    "\n",
    "# agar siz egri chiziqli funksiy a hosil qilmoqchi bo'lsangiz, unda XX va get_y_svd ni o`zgartiring.\n",
    "def get_y_svd(t):\n",
    "    return np.c_[np.ones(len(t)), t] @ _w\n"
   ]
  },
  {
   "cell_type": "code",
   "execution_count": 506,
   "metadata": {},
   "outputs": [
    {
     "data": {
      "text/plain": [
       "array([[ 1.        ,  0.        ],\n",
       "       [ 1.        ,  0.71428571],\n",
       "       [ 1.        ,  1.42857143],\n",
       "       [ 1.        ,  2.14285714],\n",
       "       [ 1.        ,  2.85714286],\n",
       "       [ 1.        ,  3.57142857],\n",
       "       [ 1.        ,  4.28571429],\n",
       "       [ 1.        ,  5.        ],\n",
       "       [ 1.        ,  5.71428571],\n",
       "       [ 1.        ,  6.42857143],\n",
       "       [ 1.        ,  7.14285714],\n",
       "       [ 1.        ,  7.85714286],\n",
       "       [ 1.        ,  8.57142857],\n",
       "       [ 1.        ,  9.28571429],\n",
       "       [ 1.        , 10.        ]])"
      ]
     },
     "execution_count": 506,
     "metadata": {},
     "output_type": "execute_result"
    }
   ],
   "source": [
    "XX"
   ]
  },
  {
   "cell_type": "code",
   "execution_count": 507,
   "metadata": {},
   "outputs": [],
   "source": [
    "t_test = np.linspace(t_min, t_max, n_points * 10)\n",
    "y_true = gen_data(t_test, a, b, c)\n",
    "y_lsq = gen_data(t_test, *res_lsq.x)\n",
    "y_soft_l1 = gen_data(t_test, *res_soft_l1.x)\n",
    "y_log = gen_data(t_test, *res_log.x)\n",
    "y_svd = get_y_svd(t_test)"
   ]
  },
  {
   "cell_type": "code",
   "execution_count": 513,
   "metadata": {},
   "outputs": [
    {
     "data": {
      "image/png": "[encoded data removed]",
      "text/plain": [
       "<Figure size 432x288 with 1 Axes>"
      ]
     },
     "metadata": {
      "needs_background": "light"
     },
     "output_type": "display_data"
    }
   ],
   "source": [
    "import matplotlib.pyplot as plt\n",
    "plt.plot(t_train, y_train, 'o')\n",
    "# plt.plot(t_test, y_true, 'k', linewidth=2, label='true')\n",
    "plt.plot(t_test, y_lsq, label='linear loss')\n",
    "plt.plot(t_test, y_soft_l1, label='soft_l1 loss')\n",
    "plt.plot(t_test, y_log, label='cauchy loss')\n",
    "plt.plot(t_test, y_svd, label='svd')\n",
    "plt.xlabel(\"t\")\n",
    "plt.ylabel(\"y\")\n",
    "plt.legend()\n",
    "plt.show()"
   ]
  },
  {
   "cell_type": "code",
   "execution_count": null,
   "metadata": {},
   "outputs": [],
   "source": []
  },
  {
   "cell_type": "code",
   "execution_count": null,
   "metadata": {},
   "outputs": [],
   "source": []
  },
  {
   "cell_type": "code",
   "execution_count": null,
   "metadata": {},
   "outputs": [],
   "source": []
  }
 ],
 "metadata": {
  "kernelspec": {
   "display_name": "Python 3",
   "language": "python",
   "name": "python3"
  },
  "language_info": {
   "codemirror_mode": {
    "name": "ipython",
    "version": 3
   },
   "file_extension": ".py",
   "mimetype": "text/x-python",
   "name": "python",
   "nbconvert_exporter": "python",
   "pygments_lexer": "ipython3",
   "version": "3.5.2"
  }
 },
 "nbformat": 4,
 "nbformat_minor": 4
}
